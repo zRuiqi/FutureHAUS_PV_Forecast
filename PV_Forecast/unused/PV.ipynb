{
 "cells": [
  {
   "cell_type": "code",
   "execution_count": 3,
   "source": [
    "import tensorflow as tf\n",
    "import numpy as np\n",
    "import matplotlib.pyplot as plt\n",
    "import pandas as pd\n",
    "import csv"
   ],
   "outputs": [],
   "metadata": {}
  },
  {
   "cell_type": "code",
   "execution_count": 39,
   "source": [
    "def read_PV_Data(filename):\n",
    "    date = []\n",
    "    date_time = []\n",
    "    time = []\n",
    "    power = []\n",
    "    min = 0\n",
    "    with open(filename, newline='') as csvfile:\n",
    "        reader = csv.DictReader(csvfile)\n",
    "        for row in reader:\n",
    "            \n",
    "            str = row['LocalTime']\n",
    "            min = int(str[9:11])*60 + int(str[12:14])\n",
    "            # print(min<)\n",
    "            if min>=440 and min<=1015:\n",
    "\n",
    "                # date_time = pd.to_datetime(str[0:14], format='%d/%m/%Y %H:%M')\n",
    "                # date.append(date_time)\n",
    "                # date.append(str[0:8])\n",
    "                # time.append(str[9:14])\n",
    "\n",
    "                date_time.append(str[0:14])\n",
    "                power.append(row['Power(MW)'])\n",
    "    return date_time, power\n",
    "\n",
    "\n",
    "def read_IRR_Data(filename):\n",
    "    date = []\n",
    "    est = []\n",
    "    Global_PSP = []\n",
    "    NIP = []\n",
    "    Diffuse_PSP = []\n",
    "    with open(filename, newline='') as csvfile:\n",
    "        reader = csv.DictReader(csvfile)\n",
    "        for row in reader:\n",
    "            # date.append(row['DATE (MM/DD/YYYY)'])\n",
    "            # est.append(row['EST'])\n",
    "            # date_est \n",
    "            str = row['EST']\n",
    "            min = int(str[0:2])*60+int(str[3:5])\n",
    "            # print(str[0:2], str[3:5])\n",
    "            if min>=440 and min<=1015:\n",
    "                date.append(row['DATE (MM/DD/YYYY)'])\n",
    "                est.append(row['EST'])\n",
    "                Global_PSP.append(row['Global PSP [W/m^2]'])\n",
    "                NIP.append(row['Direct NIP [W/m^2]'])\n",
    "                Diffuse_PSP.append(row['Diffuse PSP (sband) [W/m^2]'])\n",
    "    return date, est, Global_PSP, NIP, Diffuse_PSP"
   ],
   "outputs": [],
   "metadata": {}
  },
  {
   "cell_type": "code",
   "execution_count": 43,
   "source": [
    "date0, power0 = read_PV_Data(\"PV_data_train.csv\")\n",
    "data = {'LocalTime':date0, 'Power(MW)':power0}\n",
    "# df = pd.DataFrame(data)\n",
    "# df.to_csv('PV_data_train2.csv')\n",
    "\n",
    "\n",
    "\n",
    "date2, est, Global_PSP, NIP, Diffuse_PSP = read_IRR_Data(\"irradiance_data.csv\")\n",
    "DATA = {'DATE (MM/DD/YYYY)':date2,'EST':est,'GHI':Global_PSP,'DIP':NIP,'DHI':Diffuse_PSP}\n",
    "df = pd.DataFrame(DATA)\n",
    "df.to_csv('irradiance_data2.csv')\n",
    "\n"
   ],
   "outputs": [],
   "metadata": {}
  },
  {
   "cell_type": "code",
   "execution_count": 41,
   "source": [
    "# print(df.head())\n",
    "# print(len(time))\n",
    "# print(len(power))\n",
    "# print(date0[0], time[116], power[0])\n",
    "print(len(date0))\n",
    "print(len(date2))\n",
    "\n",
    "# # plot\n",
    "# print(date0[0], power0[0])\n",
    "# print(date1[0], est[115], Global_PSP[0], NIP[0], Diffuse_PSP[0])\n"
   ],
   "outputs": [
    {
     "output_type": "stream",
     "name": "stdout",
     "text": [
      "42340\n",
      "42278\n"
     ]
    }
   ],
   "metadata": {}
  }
 ],
 "metadata": {
  "orig_nbformat": 4,
  "language_info": {
   "name": "python",
   "version": "3.9.0",
   "mimetype": "text/x-python",
   "codemirror_mode": {
    "name": "ipython",
    "version": 3
   },
   "pygments_lexer": "ipython3",
   "nbconvert_exporter": "python",
   "file_extension": ".py"
  },
  "kernelspec": {
   "name": "python3",
   "display_name": "Python 3.9.0 64-bit"
  },
  "interpreter": {
   "hash": "aee8b7b246df8f9039afb4144a1f6fd8d2ca17a180786b69acc140d282b71a49"
  }
 },
 "nbformat": 4,
 "nbformat_minor": 2
}