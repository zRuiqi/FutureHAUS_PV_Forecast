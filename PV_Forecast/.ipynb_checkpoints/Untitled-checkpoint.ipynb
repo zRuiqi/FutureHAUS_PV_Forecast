{
 "cells": [
  {
   "cell_type": "code",
   "execution_count": 5,
   "metadata": {},
   "outputs": [],
   "source": [
    "%matplotlib inline\n",
    "import matplotlib.pyplot as plt\n",
    "\n",
    "import pandas as pd\n",
    "from pandas import read_csv\n",
    "from datetime import datetime\n",
    "from IPython.display import Image, HTML\n",
    "\n",
    "\n",
    "\n",
    "import numpy as np\n",
    "import matplotlib.pyplot as plt\n",
    "import pandas as pd\n",
    "from datetime import datetime\n",
    "import csv\n",
    "import sklearn\n",
    "\n",
    "\n",
    "\n",
    "from sklearn.pipeline import make_pipeline\n",
    "from sklearn.preprocessing import Normalizer\n",
    "from sklearn.preprocessing import MinMaxScaler  \n",
    "from sklearn.compose import make_column_transformer \n",
    "from sklearn.metrics import r2_score\n",
    "\n",
    "import arcgis\n",
    "from arcgis.gis import GIS\n",
    "from arcgis.learn import FullyConnectedNetwork, MLModel, prepare_tabulardata"
   ]
  },
  {
   "cell_type": "code",
   "execution_count": null,
   "metadata": {},
   "outputs": [],
   "source": [
    "df1 = pd.read_csv(\"PV_data_train2.csv\")\n",
    "df1['LocalTime'] = pd.to_datetime(df1['LocalTime'], format='%m/%d/%y %H:%M')\n",
    "x = df1\n",
    "\n",
    "df2 = pd.read_csv(\"irradiance_data2.csv\")\n",
    "df2['LocalTime'] = df2['DATE (MM/DD/YYYY)'] + '-' + df2['EST']\n",
    "df2['LocalTime'] = pd.to_datetime(df1['LocalTime'], format='%m/%d/%y-%H:%M')\n",
    "y = df2.drop(\"DATE (MM/DD/YYYY)\", axis=1)\n",
    "\n",
    "\n",
    "irrad_vars = ['GHI',  'DIP', 'DHI']\n",
    "df = {'LocalTime':df1['LocalTime'],  'Power(MW)':df1['Power(MW)'], 'GHI':df2['GHI'], 'DIP':df2['DIP'], 'DHI':df2['DHI']}\n",
    "data = pd.DataFrame(df)\n",
    "print(data.head())"
   ]
  },
  {
   "cell_type": "code",
   "execution_count": null,
   "metadata": {},
   "outputs": [],
   "source": []
  }
 ],
 "metadata": {
  "kernelspec": {
   "display_name": "Python 3",
   "language": "python",
   "name": "python3"
  },
  "language_info": {
   "codemirror_mode": {
    "name": "ipython",
    "version": 3
   },
   "file_extension": ".py",
   "mimetype": "text/x-python",
   "name": "python",
   "nbconvert_exporter": "python",
   "pygments_lexer": "ipython3",
   "version": "3.9.0"
  }
 },
 "nbformat": 4,
 "nbformat_minor": 4
}
